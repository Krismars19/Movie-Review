{
  "nbformat": 4,
  "nbformat_minor": 0,
  "metadata": {
    "colab": {
      "name": "Text_Analytics.ipynb",
      "provenance": [],
      "collapsed_sections": []
    },
    "kernelspec": {
      "name": "python3",
      "display_name": "Python 3"
    }
  },
  "cells": [
    {
      "cell_type": "markdown",
      "metadata": {
        "id": "w_HxYlafrXAB"
      },
      "source": [
        "This is a project that involves text analytics and sentiment analysis  "
      ]
    },
    {
      "cell_type": "markdown",
      "metadata": {
        "id": "hYRwkYRHAjQQ"
      },
      "source": [
        "Text Analytics process uses the NLTK library:\n",
        "\n",
        "Covers the following tasks:\n",
        "\n",
        "Task 1. Text Analytics and NLP\n",
        "\n",
        "Task 2. Comparing Text Analytics, NLP and Text Mining\n",
        "- Text Analysis Operations using NLTK\n",
        "- Tokenization\n",
        "- Stopwords\n",
        "- Lexicon Normalization such as Stemming and Lemmatization\n",
        "- POS Tagging\n",
        "\n",
        "Task 3. Sentiment Analysis\n",
        "\n",
        "Task 4. Text Classification\n",
        "\n",
        "Task 5. Performing Sentiment Analysis using Text Classification"
      ]
    },
    {
      "cell_type": "markdown",
      "metadata": {
        "id": "gDCTNt2dBviu"
      },
      "source": [
        "Text Analysis process using NLTK:- NLTK is a powerful Python package that provides a set of diverse natural languages algorithms. NLTK consists of the most common algorithms such as tokenizing, part-of-speech tagging, stemming, sentiment analysis, topic segmentation, and named entity recognition. \n",
        "- NLTK helps the computer to analysis, preprocess, and understand the written text."
      ]
    },
    {
      "cell_type": "code",
      "metadata": {
        "id": "M5rYbtglB5Z5",
        "colab": {
          "base_uri": "https://localhost:8080/"
        },
        "outputId": "51d503c2-ddf8-4332-d216-ea90b3e8acb5"
      },
      "source": [
        "# Download the library\n",
        "\n",
        "!pip install nltk"
      ],
      "execution_count": 1,
      "outputs": [
        {
          "output_type": "stream",
          "text": [
            "Requirement already satisfied: nltk in /usr/local/lib/python3.6/dist-packages (3.2.5)\n",
            "Requirement already satisfied: six in /usr/local/lib/python3.6/dist-packages (from nltk) (1.15.0)\n"
          ],
          "name": "stdout"
        }
      ]
    },
    {
      "cell_type": "code",
      "metadata": {
        "id": "-CgbEIJ-80EY"
      },
      "source": [
        "# Import relevant library\n",
        "\n",
        "import nltk"
      ],
      "execution_count": 2,
      "outputs": []
    },
    {
      "cell_type": "markdown",
      "metadata": {
        "id": "UjJX2voOCaW7"
      },
      "source": [
        "Tokenization: Tokenization is the first step in text analytics. It is the process of breaking down a text paragraph into smaller chunks such as words or sentence. Token is a single entity that is building blocks for sentence or paragraph.\n",
        "\n",
        "- Sentence Tokenization: Sentence tokenizer breaks text paragraph into sentences."
      ]
    },
    {
      "cell_type": "code",
      "metadata": {
        "id": "OiNXhPyZCjuf",
        "colab": {
          "base_uri": "https://localhost:8080/"
        },
        "outputId": "1cd6619b-81b9-4bc2-f5c7-40c2b0c99b5f"
      },
      "source": [
        "import nltk\n",
        "nltk.download('punkt')\n",
        "from nltk.tokenize import sent_tokenize\n",
        "\n",
        "text=\"\"\"We are looking for a data scientist with strong programming skills to join our team to help on the application development front. \n",
        "We are currently a small but very experienced team composed of two data scientists and a full stack developer\"\"\"\n",
        "tokenized_text = sent_tokenize(text)\n",
        "print(tokenized_text)"
      ],
      "execution_count": 3,
      "outputs": [
        {
          "output_type": "stream",
          "text": [
            "[nltk_data] Downloading package punkt to /root/nltk_data...\n",
            "[nltk_data]   Package punkt is already up-to-date!\n",
            "['We are looking for a data scientist with strong programming skills to join our team to help on the application development front.', 'We are currently a small but very experienced team composed of two data scientists and a full stack developer']\n"
          ],
          "name": "stdout"
        }
      ]
    },
    {
      "cell_type": "markdown",
      "metadata": {
        "id": "eJkN2OusC8zy"
      },
      "source": [
        "Word Tokenization: Word tokenizer breaks text paragraph into words."
      ]
    },
    {
      "cell_type": "code",
      "metadata": {
        "id": "p3DfldqdC_73",
        "colab": {
          "base_uri": "https://localhost:8080/"
        },
        "outputId": "bbb4eeec-ead1-4a1f-eb54-27f23f974abb"
      },
      "source": [
        "from nltk.tokenize import word_tokenize\n",
        "tokenized_word = word_tokenize(text)\n",
        "print(tokenized_word)"
      ],
      "execution_count": 4,
      "outputs": [
        {
          "output_type": "stream",
          "text": [
            "['We', 'are', 'looking', 'for', 'a', 'data', 'scientist', 'with', 'strong', 'programming', 'skills', 'to', 'join', 'our', 'team', 'to', 'help', 'on', 'the', 'application', 'development', 'front', '.', 'We', 'are', 'currently', 'a', 'small', 'but', 'very', 'experienced', 'team', 'composed', 'of', 'two', 'data', 'scientists', 'and', 'a', 'full', 'stack', 'developer']\n"
          ],
          "name": "stdout"
        }
      ]
    },
    {
      "cell_type": "markdown",
      "metadata": {
        "id": "Ew4BYy2WDHsR"
      },
      "source": [
        "Frequency Distribution"
      ]
    },
    {
      "cell_type": "code",
      "metadata": {
        "id": "uO3wGvMEDJGX",
        "colab": {
          "base_uri": "https://localhost:8080/"
        },
        "outputId": "8d8c4aa9-b657-4eae-bb1a-f7b799345469"
      },
      "source": [
        "from nltk.probability import FreqDist\n",
        "fdist = FreqDist(tokenized_word)\n",
        "print(fdist)"
      ],
      "execution_count": 5,
      "outputs": [
        {
          "output_type": "stream",
          "text": [
            "<FreqDist with 35 samples and 42 outcomes>\n"
          ],
          "name": "stdout"
        }
      ]
    },
    {
      "cell_type": "code",
      "metadata": {
        "id": "KvDeCKzMDO_v",
        "colab": {
          "base_uri": "https://localhost:8080/"
        },
        "outputId": "c981a7f2-7571-4367-c2d6-10ed2626e71c"
      },
      "source": [
        "fdist.most_common(2)"
      ],
      "execution_count": 6,
      "outputs": [
        {
          "output_type": "execute_result",
          "data": {
            "text/plain": [
              "[('a', 3), ('We', 2)]"
            ]
          },
          "metadata": {
            "tags": []
          },
          "execution_count": 6
        }
      ]
    },
    {
      "cell_type": "code",
      "metadata": {
        "id": "lRRY7CfhDS-3",
        "colab": {
          "base_uri": "https://localhost:8080/",
          "height": 337
        },
        "outputId": "05badb30-fa3a-41f8-81a7-69226ce22fc1"
      },
      "source": [
        "# Frequency Distribution Plot\n",
        "\n",
        "import matplotlib.pyplot as plt\n",
        "fdist.plot(30,cumulative=False)\n",
        "plt.show()"
      ],
      "execution_count": 7,
      "outputs": [
        {
          "output_type": "display_data",
          "data": {
            "image/png": "[encoded data removed]",
            "text/plain": [
              "<Figure size 432x288 with 1 Axes>"
            ]
          },
          "metadata": {
            "tags": [],
            "needs_background": "light"
          }
        }
      ]
    },
    {
      "cell_type": "markdown",
      "metadata": {
        "id": "bq_xhh_gDk_t"
      },
      "source": [
        "Stopwords: Stopwords considered as noise in the text. Text may contain stop words such as is, am, are, this, a, an, the, etc.\n",
        "\n",
        "- In NLTK for removing stopwords, you need to create a list of stopwords and filter out your list of tokens from these words."
      ]
    },
    {
      "cell_type": "code",
      "metadata": {
        "id": "_nkwEMkGDpyp",
        "colab": {
          "base_uri": "https://localhost:8080/"
        },
        "outputId": "93748d64-64d8-4307-c791-726a04314069"
      },
      "source": [
        "import nltk\n",
        "nltk.download ('stopwords')\n",
        "from nltk.corpus import stopwords\n",
        "stop_words = set(stopwords.words(\"english\"))\n",
        "print(stop_words)"
      ],
      "execution_count": 8,
      "outputs": [
        {
          "output_type": "stream",
          "text": [
            "[nltk_data] Downloading package stopwords to /root/nltk_data...\n",
            "[nltk_data]   Package stopwords is already up-to-date!\n",
            "{'at', 'were', 'whom', 'against', 'below', \"needn't\", 'there', 'themselves', 'as', 'its', 'just', 'here', 'me', 'so', 'doesn', \"hasn't\", \"didn't\", 'having', 'can', 'which', 'who', 'other', 'she', 'to', 'had', 'we', 'theirs', 'and', 'in', 'why', \"shouldn't\", 'herself', 'didn', 'yours', 'ma', \"hadn't\", 'are', 'any', 'weren', 'm', 'yourself', 'no', 's', 'most', 've', 'into', 'being', 'haven', \"shan't\", \"it's\", \"haven't\", 'should', 'his', 'more', \"weren't\", 'how', 'after', 'of', 'couldn', 'each', 'was', 'not', 'shan', 'both', 'between', 'did', 'nor', 'isn', 'doing', \"isn't\", 'if', \"mustn't\", 'hadn', 'the', 'is', 'am', 'my', \"you'll\", 'o', 'by', 'same', 'aren', 'they', 'during', \"won't\", 'ours', 'or', 'i', 'when', 'some', 'him', \"you'd\", 'he', 'what', \"don't\", 'now', 'has', 'ain', 'hers', 'an', 'on', 'll', 'out', \"that'll\", 'before', \"should've\", 'won', 'further', 'only', 'very', 'will', 'few', 'from', 'those', 'while', \"doesn't\", 'with', 'needn', 'hasn', 'a', 'for', 'mustn', \"you've\", \"she's\", 'her', 'yourselves', 'you', 'own', 'these', 't', 'than', 'too', 'again', 'does', 'through', 'where', 'off', 'about', 'above', 'y', \"couldn't\", 'wouldn', 'shouldn', 're', \"aren't\", 'but', 'it', \"wouldn't\", 'all', 'up', 'your', 'this', 'itself', 'our', 'myself', 'over', 'under', 'once', 'them', 'been', 'don', 'mightn', 'such', 'be', 'until', \"you're\", 'ourselves', 'd', 'then', \"wasn't\", 'wasn', 'that', 'himself', 'have', 'do', 'down', \"mightn't\", 'their', 'because'}\n"
          ],
          "name": "stdout"
        }
      ]
    },
    {
      "cell_type": "markdown",
      "metadata": {
        "id": "L82Sc03QDuZF"
      },
      "source": [
        "Removing Stopwords"
      ]
    },
    {
      "cell_type": "code",
      "metadata": {
        "id": "0YnvAk5KDx_B",
        "colab": {
          "base_uri": "https://localhost:8080/"
        },
        "outputId": "d7d56e32-9c82-4bc3-dbda-0ba9df6e70ab"
      },
      "source": [
        "filtered_sent=[]\n",
        "for w in tokenized_word:\n",
        "  if w not in stop_words:\n",
        "    filtered_sent.append(w)\n",
        "print(\"Tokenized Sentence:\",tokenized_word)\n",
        "print(\"Filterd Sentence:\",filtered_sent)"
      ],
      "execution_count": 9,
      "outputs": [
        {
          "output_type": "stream",
          "text": [
            "Tokenized Sentence: ['We', 'are', 'looking', 'for', 'a', 'data', 'scientist', 'with', 'strong', 'programming', 'skills', 'to', 'join', 'our', 'team', 'to', 'help', 'on', 'the', 'application', 'development', 'front', '.', 'We', 'are', 'currently', 'a', 'small', 'but', 'very', 'experienced', 'team', 'composed', 'of', 'two', 'data', 'scientists', 'and', 'a', 'full', 'stack', 'developer']\n",
            "Filterd Sentence: ['We', 'looking', 'data', 'scientist', 'strong', 'programming', 'skills', 'join', 'team', 'help', 'application', 'development', 'front', '.', 'We', 'currently', 'small', 'experienced', 'team', 'composed', 'two', 'data', 'scientists', 'full', 'stack', 'developer']\n"
          ],
          "name": "stdout"
        }
      ]
    },
    {
      "cell_type": "markdown",
      "metadata": {
        "id": "qrCZ2kmbD9-b"
      },
      "source": [
        "- Lexicon Normalization: It is consider another type of noise in the text. For example, connection, connected, connecting word reduce to a common word \"connect\". It reduces derivationally related forms of a word to a common root word.\n",
        "\n",
        "- Stemming: It is a process of linguistic normalization, which reduces words to their word root word or chops off the derivational affixes. For example, connection, connected, connecting word reduce to a common word \"connect\"."
      ]
    },
    {
      "cell_type": "code",
      "metadata": {
        "id": "I-pohYV6EJ6f",
        "colab": {
          "base_uri": "https://localhost:8080/"
        },
        "outputId": "96544ac0-d4ef-4a77-f172-fe9256496100"
      },
      "source": [
        "# Stemming\n",
        "\n",
        "from nltk.stem import PorterStemmer\n",
        "from nltk.tokenize import sent_tokenize, word_tokenize\n",
        "\n",
        "ps = PorterStemmer()\n",
        "\n",
        "stemmed_words=[]\n",
        "for w in filtered_sent:\n",
        "  stemmed_words.append(ps.stem(w))\n",
        "\n",
        "print(\"Filtered Sentence:\",filtered_sent)\n",
        "print(\"Stemmed Sentence:\",stemmed_words)"
      ],
      "execution_count": 10,
      "outputs": [
        {
          "output_type": "stream",
          "text": [
            "Filtered Sentence: ['We', 'looking', 'data', 'scientist', 'strong', 'programming', 'skills', 'join', 'team', 'help', 'application', 'development', 'front', '.', 'We', 'currently', 'small', 'experienced', 'team', 'composed', 'two', 'data', 'scientists', 'full', 'stack', 'developer']\n",
            "Stemmed Sentence: ['We', 'look', 'data', 'scientist', 'strong', 'program', 'skill', 'join', 'team', 'help', 'applic', 'develop', 'front', '.', 'We', 'current', 'small', 'experienc', 'team', 'compos', 'two', 'data', 'scientist', 'full', 'stack', 'develop']\n"
          ],
          "name": "stdout"
        }
      ]
    },
    {
      "cell_type": "markdown",
      "metadata": {
        "id": "eF-i5S8qEmL2"
      },
      "source": [
        "Lemmatization: It reduces words to their base word, which is linguistically correct lemmas. It transforms root word with the use of vocabulary and morphological analysis. \n",
        "- Lemmatization is usually more sophisticated than stemming. Stemmer works on an individual word without knowledge of the context. "
      ]
    },
    {
      "cell_type": "code",
      "metadata": {
        "id": "JLAfzJ_LEl3n",
        "colab": {
          "base_uri": "https://localhost:8080/"
        },
        "outputId": "0e6d0915-4997-4633-9a01-baffab840bed"
      },
      "source": [
        "#Lexicon Normalization\n",
        "#performing stemming and Lemmatization\n",
        "\n",
        "import nltk\n",
        "nltk.download('wordnet')\n",
        "from nltk.stem.wordnet import WordNetLemmatizer\n",
        "lem = WordNetLemmatizer()\n",
        "\n",
        "from nltk.stem.porter import PorterStemmer\n",
        "stem = PorterStemmer()\n",
        "\n",
        "word = \"flying\"\n",
        "print(\"Lemmatized Word:\",lem.lemmatize(word,\"v\"))\n",
        "print(\"Stemmed Word:\",stem.stem(word))"
      ],
      "execution_count": 11,
      "outputs": [
        {
          "output_type": "stream",
          "text": [
            "[nltk_data] Downloading package wordnet to /root/nltk_data...\n",
            "[nltk_data]   Package wordnet is already up-to-date!\n",
            "Lemmatized Word: fly\n",
            "Stemmed Word: fli\n"
          ],
          "name": "stdout"
        }
      ]
    },
    {
      "cell_type": "markdown",
      "metadata": {
        "id": "r9hv42ntFADG"
      },
      "source": [
        "POS Tagging: The primary target of Part-of-Speech(POS) tagging is to identify the grammatical group of a given word. Whether it is a **NOUN, PRONOUN, ADJECTIVE, VERB, ADVERBS, etc.** based on the context. POS Tagging looks for relationships within the sentence and assigns a corresponding tag to the word."
      ]
    },
    {
      "cell_type": "code",
      "metadata": {
        "id": "dvR8cVzQFF_R",
        "colab": {
          "base_uri": "https://localhost:8080/"
        },
        "outputId": "e080916f-003a-49cf-abdf-3be3b07f14eb"
      },
      "source": [
        "sent = \"The person we are looking for will play a major role in the team and in our AI software development plans.\"\n",
        "\n",
        "tokens=nltk.word_tokenize(sent)\n",
        "print(tokens)"
      ],
      "execution_count": 12,
      "outputs": [
        {
          "output_type": "stream",
          "text": [
            "['The', 'person', 'we', 'are', 'looking', 'for', 'will', 'play', 'a', 'major', 'role', 'in', 'the', 'team', 'and', 'in', 'our', 'AI', 'software', 'development', 'plans', '.']\n"
          ],
          "name": "stdout"
        }
      ]
    },
    {
      "cell_type": "code",
      "metadata": {
        "id": "HjGtxltnFNZ9",
        "colab": {
          "base_uri": "https://localhost:8080/"
        },
        "outputId": "380c3fdd-a97a-4257-cea3-bccdb0a9ccd1"
      },
      "source": [
        "import nltk\n",
        "nltk.download('averaged_perceptron_tagger')\n",
        "nltk.pos_tag(tokens)"
      ],
      "execution_count": 13,
      "outputs": [
        {
          "output_type": "stream",
          "text": [
            "[nltk_data] Downloading package averaged_perceptron_tagger to\n",
            "[nltk_data]     /root/nltk_data...\n",
            "[nltk_data]   Package averaged_perceptron_tagger is already up-to-\n",
            "[nltk_data]       date!\n"
          ],
          "name": "stdout"
        },
        {
          "output_type": "execute_result",
          "data": {
            "text/plain": [
              "[('The', 'DT'),\n",
              " ('person', 'NN'),\n",
              " ('we', 'PRP'),\n",
              " ('are', 'VBP'),\n",
              " ('looking', 'VBG'),\n",
              " ('for', 'IN'),\n",
              " ('will', 'MD'),\n",
              " ('play', 'VB'),\n",
              " ('a', 'DT'),\n",
              " ('major', 'JJ'),\n",
              " ('role', 'NN'),\n",
              " ('in', 'IN'),\n",
              " ('the', 'DT'),\n",
              " ('team', 'NN'),\n",
              " ('and', 'CC'),\n",
              " ('in', 'IN'),\n",
              " ('our', 'PRP$'),\n",
              " ('AI', 'NNP'),\n",
              " ('software', 'NN'),\n",
              " ('development', 'NN'),\n",
              " ('plans', 'NNS'),\n",
              " ('.', '.')]"
            ]
          },
          "metadata": {
            "tags": []
          },
          "execution_count": 13
        }
      ]
    },
    {
      "cell_type": "markdown",
      "metadata": {
        "id": "9WD0n5PQFV1l"
      },
      "source": [
        "Sentiment Analysis\n",
        "\n",
        "Quantifying users content, idea, belief, and opinion is known as **sentiment analysis**. User's online post, blogs, tweets, feedback of product helps business people to the target audience and innovate in products and services. Sentiment analysis helps in understanding people in a better and more accurate way. It is not only limited to marketing, but it can also be utilized in politics, research, and security.\n",
        "\n",
        "**Sentiments are combination words, tone, and writing style.**\n",
        "\n",
        "There are mainly two approaches for performing sentiment analysis.\n",
        "\n",
        "- Lexicon-based: count number of positive and negative words in given text and the larger count will be the sentiment of text.\n",
        "\n",
        "- Machine learning based approach: Develop a classification model, which is trained using the pre-labeled dataset of positive, negative, and neutral."
      ]
    },
    {
      "cell_type": "markdown",
      "metadata": {
        "id": "zxaJT5PAGHaW"
      },
      "source": [
        "Text Classification: Text classification is one of the important tasks of text mining. It is a supervised approach. Identifying category or class of given text such as a blog, book, web page, news articles, and tweets. It has various application in today's computer world such as spam detection, task categorization in CRM services, categorizing products on E-retailer websites, classifying the content of websites for a search engine, sentiments of customer feedback"
      ]
    },
    {
      "cell_type": "markdown",
      "metadata": {
        "id": "-_T8sq5KGMpq"
      },
      "source": [
        "Performing Sentiment Analysis using Text Classification"
      ]
    },
    {
      "cell_type": "code",
      "metadata": {
        "id": "qDkZxiBfGP7r"
      },
      "source": [
        "# Import pandas\n",
        "\n",
        "import pandas as pd"
      ],
      "execution_count": 14,
      "outputs": []
    },
    {
      "cell_type": "markdown",
      "metadata": {
        "id": "KGfjEnHUGf5R"
      },
      "source": [
        "Loading Data: Perform Multi-Nomial Naive Bayes Classification using scikit-learn.\n",
        "\n",
        "The dataset is a tab-separated file. Dataset has four columns PhraseId, SentenceId, Phrase, and Sentiment.\n",
        "\n",
        "Datasets: You can download it from the following link: https://www.kaggle.com/c/sentiment-analysis-on-movie-reviews/data"
      ]
    },
    {
      "cell_type": "code",
      "metadata": {
        "id": "Xm6gyEocHCV9",
        "colab": {
          "base_uri": "https://localhost:8080/",
          "height": 204
        },
        "outputId": "098dc001-5637-4631-9ede-8134906b5e9f"
      },
      "source": [
        "data=pd.read_csv('train.tsv', sep='\\t')\n",
        "data.head()"
      ],
      "execution_count": 15,
      "outputs": [
        {
          "output_type": "execute_result",
          "data": {
            "text/html": [
              "<div>\n",
              "<style scoped>\n",
              "    .dataframe tbody tr th:only-of-type {\n",
              "        vertical-align: middle;\n",
              "    }\n",
              "\n",
              "    .dataframe tbody tr th {\n",
              "        vertical-align: top;\n",
              "    }\n",
              "\n",
              "    .dataframe thead th {\n",
              "        text-align: right;\n",
              "    }\n",
              "</style>\n",
              "<table border=\"1\" class=\"dataframe\">\n",
              "  <thead>\n",
              "    <tr style=\"text-align: right;\">\n",
              "      <th></th>\n",
              "      <th>PhraseId</th>\n",
              "      <th>SentenceId</th>\n",
              "      <th>Phrase</th>\n",
              "      <th>Sentiment</th>\n",
              "    </tr>\n",
              "  </thead>\n",
              "  <tbody>\n",
              "    <tr>\n",
              "      <th>0</th>\n",
              "      <td>1</td>\n",
              "      <td>1</td>\n",
              "      <td>A series of escapades demonstrating the adage ...</td>\n",
              "      <td>1</td>\n",
              "    </tr>\n",
              "    <tr>\n",
              "      <th>1</th>\n",
              "      <td>2</td>\n",
              "      <td>1</td>\n",
              "      <td>A series of escapades demonstrating the adage ...</td>\n",
              "      <td>2</td>\n",
              "    </tr>\n",
              "    <tr>\n",
              "      <th>2</th>\n",
              "      <td>3</td>\n",
              "      <td>1</td>\n",
              "      <td>A series</td>\n",
              "      <td>2</td>\n",
              "    </tr>\n",
              "    <tr>\n",
              "      <th>3</th>\n",
              "      <td>4</td>\n",
              "      <td>1</td>\n",
              "      <td>A</td>\n",
              "      <td>2</td>\n",
              "    </tr>\n",
              "    <tr>\n",
              "      <th>4</th>\n",
              "      <td>5</td>\n",
              "      <td>1</td>\n",
              "      <td>series</td>\n",
              "      <td>2</td>\n",
              "    </tr>\n",
              "  </tbody>\n",
              "</table>\n",
              "</div>"
            ],
            "text/plain": [
              "   PhraseId  ...  Sentiment\n",
              "0         1  ...          1\n",
              "1         2  ...          2\n",
              "2         3  ...          2\n",
              "3         4  ...          2\n",
              "4         5  ...          2\n",
              "\n",
              "[5 rows x 4 columns]"
            ]
          },
          "metadata": {
            "tags": []
          },
          "execution_count": 15
        }
      ]
    },
    {
      "cell_type": "code",
      "metadata": {
        "id": "jcHqSpNFHPkC",
        "colab": {
          "base_uri": "https://localhost:8080/"
        },
        "outputId": "b7af371b-0446-4df3-b6be-8b4d0ae6ca59"
      },
      "source": [
        "data.info()"
      ],
      "execution_count": 16,
      "outputs": [
        {
          "output_type": "stream",
          "text": [
            "<class 'pandas.core.frame.DataFrame'>\n",
            "RangeIndex: 156060 entries, 0 to 156059\n",
            "Data columns (total 4 columns):\n",
            " #   Column      Non-Null Count   Dtype \n",
            "---  ------      --------------   ----- \n",
            " 0   PhraseId    156060 non-null  int64 \n",
            " 1   SentenceId  156060 non-null  int64 \n",
            " 2   Phrase      156060 non-null  object\n",
            " 3   Sentiment   156060 non-null  int64 \n",
            "dtypes: int64(3), object(1)\n",
            "memory usage: 4.8+ MB\n"
          ],
          "name": "stdout"
        }
      ]
    },
    {
      "cell_type": "code",
      "metadata": {
        "id": "LVaMwBY9HTk9",
        "colab": {
          "base_uri": "https://localhost:8080/"
        },
        "outputId": "2f7b3d9e-4e3a-48b4-e739-fc098a090ae9"
      },
      "source": [
        "data.Sentiment.value_counts()"
      ],
      "execution_count": 17,
      "outputs": [
        {
          "output_type": "execute_result",
          "data": {
            "text/plain": [
              "2    79582\n",
              "3    32927\n",
              "1    27273\n",
              "4     9206\n",
              "0     7072\n",
              "Name: Sentiment, dtype: int64"
            ]
          },
          "metadata": {
            "tags": []
          },
          "execution_count": 17
        }
      ]
    },
    {
      "cell_type": "code",
      "metadata": {
        "id": "zxn8y3EDHdFW",
        "colab": {
          "base_uri": "https://localhost:8080/",
          "height": 279
        },
        "outputId": "f3e6a992-1b13-47a7-eeea-db112492f462"
      },
      "source": [
        "Sentiment_count=data.groupby('Sentiment').count()\n",
        "plt.bar(Sentiment_count.index.values, Sentiment_count['Phrase'])\n",
        "plt.xlabel('Review Sentiments')\n",
        "plt.ylabel('Number of Review')\n",
        "plt.show()"
      ],
      "execution_count": 18,
      "outputs": [
        {
          "output_type": "display_data",
          "data": {
            "image/png": "[encoded data removed]",
            "text/plain": [
              "<Figure size 432x288 with 1 Axes>"
            ]
          },
          "metadata": {
            "tags": [],
            "needs_background": "light"
          }
        }
      ]
    },
    {
      "cell_type": "markdown",
      "metadata": {
        "id": "wfs51JWBHla3"
      },
      "source": [
        "Feature Generation using Bag of Words: Bag-of-words model(BoW ) is the simplest way of extracting features from the text. BoW converts text into the matrix of occurrence of words within a document. This model concerns about whether given words occurred or not in the document.\n",
        "\n",
        "- Creating a matrix of document and words by counting the occurrence of words in the given document. This matrix is known as Document-Term Matrix(DTM).\n",
        "\n",
        "- This matrix is using a single word. It can be a combination of two or more words, which is called a bigram or trigram model and the general approach is called the n-gram model."
      ]
    },
    {
      "cell_type": "markdown",
      "metadata": {
        "id": "aHMCF8JSIBHn"
      },
      "source": [
        "Generate document term matrix by using scikit-learn's CountVectorizer."
      ]
    },
    {
      "cell_type": "code",
      "metadata": {
        "id": "23Z-X_0GIHlK"
      },
      "source": [
        "from sklearn.feature_extraction.text import CountVectorizer\n",
        "from nltk.tokenize import RegexpTokenizer\n",
        "#tokenizer to remove unwanted elements from out data like symbols and numbers\n",
        "token = RegexpTokenizer(r'[a-zA-Z0-9]+')\n",
        "cv = CountVectorizer(lowercase=True,stop_words='english',ngram_range = (1,1),tokenizer = token.tokenize)\n",
        "text_counts= cv.fit_transform(data['Phrase'])"
      ],
      "execution_count": 19,
      "outputs": []
    },
    {
      "cell_type": "markdown",
      "metadata": {
        "id": "i-7pAeARIMIk"
      },
      "source": [
        "Split train and test set: Let's split dataset by using function train_test_split(). You need to pass basically 3 parameters features, target, and test_set size. Additionally, you can use random_state to select records randomly."
      ]
    },
    {
      "cell_type": "code",
      "metadata": {
        "id": "6ZFqA9IHIUyI"
      },
      "source": [
        "from sklearn.model_selection import train_test_split\n",
        "X_train, X_test, y_train, y_test = train_test_split(\n",
        "    text_counts, data['Sentiment'], test_size=0.3, random_state=1)"
      ],
      "execution_count": 20,
      "outputs": []
    },
    {
      "cell_type": "markdown",
      "metadata": {
        "id": "Lx13MHRgIbGP"
      },
      "source": [
        "Model Building and Evaluation: Build the Text Classification Model using TF-IDF.\n",
        "\n",
        "Import the MultinomialNB module and create a Multinomial Naive Bayes classifier object using MultinomialNB() function. Then, fit your model on a train set using fit() and perform prediction on the test set using predict()."
      ]
    },
    {
      "cell_type": "code",
      "metadata": {
        "id": "JCdgt_p0InJ6",
        "colab": {
          "base_uri": "https://localhost:8080/"
        },
        "outputId": "c5ece040-1c6a-4259-b5d5-aedb1f096538"
      },
      "source": [
        "from sklearn.naive_bayes import MultinomialNB\n",
        "\n",
        "#Import scikit-learn metrics module for accuracy calculation\n",
        "\n",
        "from sklearn import metrics\n",
        "\n",
        "# Model Generation Using Multinomial Naive Bayes\n",
        "\n",
        "clf = MultinomialNB().fit(X_train, y_train)\n",
        "predicted= clf.predict(X_test)\n",
        "print(\"MultinomialNB Accuracy:\",metrics.accuracy_score(y_test, predicted))"
      ],
      "execution_count": 21,
      "outputs": [
        {
          "output_type": "stream",
          "text": [
            "MultinomialNB Accuracy: 0.6049169122986885\n"
          ],
          "name": "stdout"
        }
      ]
    },
    {
      "cell_type": "markdown",
      "metadata": {
        "id": "6EXkdl6lJCJQ"
      },
      "source": [
        "Feature Generation using TF-IDF\n",
        "- In Term Frequency(TF), you just count the number of words occurred in each document. The main issue with this Term Frequency is that it will give more weight to longer documents. Term frequency is basically the output of the BoW model.\n",
        "\n",
        "- IDF(Inverse Document Frequency) measures the amount of information a given word provides across the document. IDF is the logarithmically scaled inverse ratio of the number of documents that contain the word and the total number of documents.\n",
        "\n",
        "- TF-IDF(Term Frequency-Inverse Document Frequency) normalizes the document term matrix. It is the product of TF and IDF. Word with high tf-idf in a document, it is most of the times occurred in given documents and must be absent in the other documents. So the words must be a signature word."
      ]
    },
    {
      "cell_type": "code",
      "metadata": {
        "id": "vAfOiTXVJM0t"
      },
      "source": [
        "from sklearn.feature_extraction.text import TfidfVectorizer\n",
        "tf=TfidfVectorizer()\n",
        "text_tf= tf.fit_transform(data['Phrase'])"
      ],
      "execution_count": 22,
      "outputs": []
    },
    {
      "cell_type": "markdown",
      "metadata": {
        "id": "lk03tXwTJPJA"
      },
      "source": [
        "Split train and test set (TF-IDF)\n",
        "- Split dataset by using function train_test_split(). You need to pass basically 3 parameters features, target, and test_set size. Additionally, you can use random_state to select records randomly."
      ]
    },
    {
      "cell_type": "code",
      "metadata": {
        "id": "HiZgn_OiJYCl"
      },
      "source": [
        "from sklearn.model_selection import train_test_split\n",
        "X_train, X_test, y_train, y_test = train_test_split(\n",
        "    text_tf, data['Sentiment'], test_size=0.3, random_state=123)"
      ],
      "execution_count": 23,
      "outputs": []
    },
    {
      "cell_type": "markdown",
      "metadata": {
        "id": "x-rObSAPJdyn"
      },
      "source": [
        "Model Building and Evaluation (TF-IDF)\n",
        "\n",
        "- Import the MultinomialNB module and create the Multinomial Naive Bayes classifier object using MultinomialNB() function. Then, fit your model on a train set using fit() and perform prediction on the test set using predict()."
      ]
    },
    {
      "cell_type": "code",
      "metadata": {
        "id": "GAqjU-AiJnbu",
        "colab": {
          "base_uri": "https://localhost:8080/"
        },
        "outputId": "537a3dce-c67d-4e7f-f6e9-77d71ff942b8"
      },
      "source": [
        "from sklearn.naive_bayes import MultinomialNB\n",
        "from sklearn import metrics\n",
        "# Model Generation Using Multinomial Naive Bayes\n",
        "clf = MultinomialNB().fit(X_train, y_train)\n",
        "predicted= clf.predict(X_test)\n",
        "print(\"MultinomialNB Accuracy:\",metrics.accuracy_score(y_test, predicted))"
      ],
      "execution_count": 24,
      "outputs": [
        {
          "output_type": "stream",
          "text": [
            "MultinomialNB Accuracy: 0.5865265496176684\n"
          ],
          "name": "stdout"
        }
      ]
    },
    {
      "cell_type": "markdown",
      "metadata": {
        "id": "bYAt4BvLJ8r3"
      },
      "source": [
        "Next step, the model can be improve by SGDClassifier module"
      ]
    }
  ]
}